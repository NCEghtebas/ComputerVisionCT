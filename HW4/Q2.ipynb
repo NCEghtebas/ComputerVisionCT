{
 "cells": [
  {
   "cell_type": "code",
   "execution_count": 2,
   "metadata": {
    "collapsed": false
   },
   "outputs": [
    {
     "name": "stdout",
     "output_type": "stream",
     "text": [
      "[[ 0.8518447   0.75947939  0.94975928]\n",
      " [ 0.55793851  0.01423302  0.59617708]\n",
      " [ 0.81620571  0.97709235  0.22190808]\n",
      " [ 0.70368367  0.52206092  0.93289706]\n",
      " [ 0.71335444  0.2280389   0.4496421 ]\n",
      " [ 0.1721997   0.96882014  0.3557161 ]\n",
      " [ 0.04904683  0.75533857  0.89481276]\n",
      " [ 0.28614965  0.25120055  0.93273619]\n",
      " [ 0.13098247  0.94081954  0.70185317]\n",
      " [ 0.84767647  0.20927164  0.45509169]]\n",
      "[[  5.11770701   4.76538441]\n",
      " [  5.5236545    3.87032918]\n",
      " [  7.16310171   7.35942066]\n",
      " [  5.22216628   4.4279585 ]\n",
      " [  5.60479614   4.67483648]\n",
      " [ 13.59494885  10.05215495]\n",
      " [  8.73452189   5.56420531]\n",
      " [  6.22433952   3.90821885]\n",
      " [  9.74763886   6.90423723]\n",
      " [  5.09031079   4.55085131]]\n"
     ]
    }
   ],
   "source": [
    "import numpy as np\n",
    "import csv\n",
    "\n",
    "def floatize(the_list):\n",
    "    return map(lambda x:float(x),the_list)\n",
    "\n",
    "def load_world_points():\n",
    "    world_reader=csv.reader(open(\"Files/world.csv\"),delimiter=' ')\n",
    "    return np.array(map(floatize,list(world_reader)))\n",
    "\n",
    "def load_image_points():\n",
    "    image_reader=csv.reader(open(\"Files/image.csv\"),delimiter=' ')\n",
    "    return np.array(map(floatize,list(image_reader)))\n",
    "\n",
    "world_points=load_world_points()\n",
    "image_points=load_image_points()\n",
    "print(world_points)\n",
    "print(image_points)"
   ]
  },
  {
   "cell_type": "code",
   "execution_count": 3,
   "metadata": {
    "collapsed": false
   },
   "outputs": [
    {
     "name": "stdout",
     "output_type": "stream",
     "text": [
      "[[ 0.8518447   0.75947939  0.94975928  1.        ]\n",
      " [ 0.55793851  0.01423302  0.59617708  1.        ]\n",
      " [ 0.81620571  0.97709235  0.22190808  1.        ]\n",
      " [ 0.70368367  0.52206092  0.93289706  1.        ]\n",
      " [ 0.71335444  0.2280389   0.4496421   1.        ]\n",
      " [ 0.1721997   0.96882014  0.3557161   1.        ]\n",
      " [ 0.04904683  0.75533857  0.89481276  1.        ]\n",
      " [ 0.28614965  0.25120055  0.93273619  1.        ]\n",
      " [ 0.13098247  0.94081954  0.70185317  1.        ]\n",
      " [ 0.84767647  0.20927164  0.45509169  1.        ]]\n",
      "[[  5.11770701   4.76538441   1.        ]\n",
      " [  5.5236545    3.87032918   1.        ]\n",
      " [  7.16310171   7.35942066   1.        ]\n",
      " [  5.22216628   4.4279585    1.        ]\n",
      " [  5.60479614   4.67483648   1.        ]\n",
      " [ 13.59494885  10.05215495   1.        ]\n",
      " [  8.73452189   5.56420531   1.        ]\n",
      " [  6.22433952   3.90821885   1.        ]\n",
      " [  9.74763886   6.90423723   1.        ]\n",
      " [  5.09031079   4.55085131   1.        ]]\n"
     ]
    }
   ],
   "source": [
    "def make_homogenous(le_vector):\n",
    "    le_shape=le_vector.shape\n",
    "    ones=np.transpose(np.atleast_2d(np.ones(le_shape[0])))\n",
    "    return np.concatenate((le_vector,ones),axis=1)\n",
    "h_world_pts=make_homogenous(world_points)\n",
    "h_image_pts=make_homogenous(image_points)\n",
    "print(h_world_pts)\n",
    "print(h_image_pts)"
   ]
  },
  {
   "cell_type": "code",
   "execution_count": 36,
   "metadata": {
    "collapsed": false
   },
   "outputs": [
    {
     "name": "stdout",
     "output_type": "stream",
     "text": [
      "[[ 5.11770702  4.76538442  1.        ]\n",
      " [ 3.53847786  2.47935024  0.64060449]\n",
      " [ 4.1274968   4.240619    0.57621642]\n",
      " [ 4.74382649  4.02236652  0.90840204]\n",
      " [ 3.61808624  3.0177657   0.64553396]\n",
      " [ 3.98366588  2.94553714  0.29302544]\n",
      " [ 4.57601247  2.9150849   0.52389959]\n",
      " [ 4.21111377  2.64412861  0.67655592]\n",
      " [ 4.50608523  3.19165306  0.46227454]\n",
      " [ 3.68088376  3.29079212  0.72311572]]\n"
     ]
    }
   ],
   "source": [
    "def construct_A_row(row_num,Is,Ws):\n",
    "    n=row_num/2\n",
    "    shift=row_num%2\n",
    "    Wn=Ws[n]\n",
    "    In=Is[n]\n",
    "    if shift==0:\n",
    "        return [Wn[0],Wn[1],Wn[2],Wn[3],0,0,0,0,-In[0]*Wn[0],-In[0]*Wn[1],-In[0]*Wn[2],-In[0]]\n",
    "    elif shift==1:\n",
    "        return [0,0,0,0,Wn[0],Wn[1],Wn[2],Wn[3],-In[1]*Wn[0],-In[1]*Wn[1],-In[1]*Wn[2],-In[1]]\n",
    "    \n",
    "def construct_A(Is,Ws):\n",
    "    A=[]\n",
    "    for row_num in range(2*Ws.shape[0]):\n",
    "        A.append(construct_A_row(row_num,Is,Ws))    \n",
    "    return np.array(A)\n",
    "\n",
    "def construct_P(Is,Ws):\n",
    "    A=construct_A(Is,Ws)\n",
    "    u,s,v=np.linalg.svd(A)\n",
    "    P=np.reshape(v[-1],(3,4))\n",
    "#     print(np.dot(A,v[-1]))\n",
    "    return P\n",
    "\n",
    "P=construct_P(h_image_pts,h_world_pts)\n",
    "# print(np.dot(P,h_world_pts))\n",
    "print(np.transpose(np.dot(P,np.transpose(h_world_pts)))*4.370554223196884)"
   ]
  },
  {
   "cell_type": "code",
   "execution_count": 31,
   "metadata": {
    "collapsed": false
   },
   "outputs": [
    {
     "data": {
      "text/plain": [
       "4.370554223196884"
      ]
     },
     "execution_count": 31,
     "metadata": {},
     "output_type": "execute_result"
    }
   ],
   "source": [
    " 4.76538441/1.0903387"
   ]
  },
  {
   "cell_type": "code",
   "execution_count": null,
   "metadata": {
    "collapsed": true
   },
   "outputs": [],
   "source": []
  }
 ],
 "metadata": {
  "kernelspec": {
   "display_name": "Python 2",
   "language": "python",
   "name": "python2"
  },
  "language_info": {
   "codemirror_mode": {
    "name": "ipython",
    "version": 2
   },
   "file_extension": ".py",
   "mimetype": "text/x-python",
   "name": "python",
   "nbconvert_exporter": "python",
   "pygments_lexer": "ipython2",
   "version": "2.7.9"
  }
 },
 "nbformat": 4,
 "nbformat_minor": 0
}
