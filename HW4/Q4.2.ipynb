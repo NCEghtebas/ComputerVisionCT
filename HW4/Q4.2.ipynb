{
 "cells": [
  {
   "cell_type": "code",
   "execution_count": 3,
   "metadata": {
    "collapsed": true
   },
   "outputs": [],
   "source": [
    "import numpy as np\n",
    "import matplotlib.pyplot as plt \n",
    "import math"
   ]
  },
  {
   "cell_type": "code",
   "execution_count": null,
   "metadata": {
    "collapsed": true
   },
   "outputs": [],
   "source": []
  },
  {
   "cell_type": "code",
   "execution_count": 31,
   "metadata": {
    "collapsed": false
   },
   "outputs": [
    {
     "name": "stdout",
     "output_type": "stream",
     "text": [
      "[[ 0.5        0.        -0.8660254 -0.8660254]\n",
      " [ 0.         1.         0.         0.       ]\n",
      " [ 0.8660254  0.         0.5       -0.5      ]\n",
      " [ 0.         0.         0.         1.       ]]\n"
     ]
    }
   ],
   "source": [
    "d = 1.0\n",
    "t = math.radians(60)\n",
    "\n",
    "\n",
    "trans1 = np.array([ [1, 0, 0, 0], [0, 1, 0, 0], [0, 0, 1, d], [0, 0, 0, 1] ])\n",
    "\n",
    "rotation = np.array([[math.cos(t), 0, -math.sin(t), 0], [0, 1, 0, 0], [math.sin(t), 0, math.cos(t), 0], [0, 0, 0, 1]])\n",
    "\n",
    "# trans2 = np.array([[1, 0, 0, -d/2.0], [0, 1, 0, 0], [0, 0, 1, -math.sqrt(3)/2.0 *d], [0, 0, 0, 1] ])\n",
    "trans2 = np.array([[1, 0, 0, 0], [0, 1, 0, 0], [0, 0, 1, -d], [0, 0, 0, 1] ])\n",
    "# T = trans1 * rotation* trans2\n",
    "# print(rotation)\n",
    "# print(np.dot(trans1,np.dot(rotation,trans2)))\n",
    "# T = np.dot(trans1,rotation, trans2)\n",
    "# T2 = np.dot(T,trans2)\n",
    "T = np.dot(np.dot(trans2, rotation) , trans1 )\n",
    "print T\n",
    "# print trans1\n",
    "# print rotation\n",
    "# print trans2\n",
    "# print T2"
   ]
  },
  {
   "cell_type": "code",
   "execution_count": null,
   "metadata": {
    "collapsed": true
   },
   "outputs": [],
   "source": []
  }
 ],
 "metadata": {
  "kernelspec": {
   "display_name": "Python 2",
   "language": "python",
   "name": "python2"
  },
  "language_info": {
   "codemirror_mode": {
    "name": "ipython",
    "version": 2
   },
   "file_extension": ".py",
   "mimetype": "text/x-python",
   "name": "python",
   "nbconvert_exporter": "python",
   "pygments_lexer": "ipython2",
   "version": "2.7.10"
  }
 },
 "nbformat": 4,
 "nbformat_minor": 0
}
