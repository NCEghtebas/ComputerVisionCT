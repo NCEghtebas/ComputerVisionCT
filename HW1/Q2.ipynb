{
 "cells": [
  {
   "cell_type": "code",
   "execution_count": 1,
   "metadata": {
    "collapsed": false
   },
   "outputs": [],
   "source": [
    "from matplotlib.pyplot import imshow\n",
    "import matplotlib.pyplot as plt \n",
    "import numpy as np\n",
    "import scipy as sp\n",
    "import scipy.ndimage.filters\n",
    "from scipy import signal\n",
    "from PIL import Image\n",
    "from PIL import ImageFilter\n",
    "from scipy import signal\n",
    "import sklearn.cluster\n",
    "# from SimpleCV import Camera"
   ]
  },
  {
   "cell_type": "code",
   "execution_count": 18,
   "metadata": {
    "collapsed": false
   },
   "outputs": [
    {
     "data": {
      "text/plain": [
       "<matplotlib.image.AxesImage at 0x1133b4bd0>"
      ]
     },
     "execution_count": 18,
     "metadata": {},
     "output_type": "execute_result"
    },
    {
     "data": {
      "image/png": "[encoded data removed]",
      "text/plain": [
       "<matplotlib.figure.Figure at 0x10e694410>"
      ]
     },
     "metadata": {},
     "output_type": "display_data"
    }
   ],
   "source": [
    "%matplotlib inline\n",
    "im = Image.open('Images/Q2/colorful4.jpg')\n",
    "plt.figure()\n",
    "plt.imshow(np.asarray(im))"
   ]
  },
  {
   "cell_type": "code",
   "execution_count": 21,
   "metadata": {
    "collapsed": false
   },
   "outputs": [
    {
     "name": "stdout",
     "output_type": "stream",
     "text": [
      "169 540 3\n"
     ]
    },
    {
     "name": "stderr",
     "output_type": "stream",
     "text": [
      "/Library/Python/2.7/site-packages/sklearn/utils/validation.py:420: DataConversionWarning: Data with input dtype uint8 was converted to float64.\n",
      "  warnings.warn(msg, DataConversionWarning)\n"
     ]
    },
    {
     "data": {
      "text/plain": [
       "<matplotlib.image.AxesImage at 0x114e03150>"
      ]
     },
     "execution_count": 21,
     "metadata": {},
     "output_type": "execute_result"
    },
    {
     "data": {
      "image/png": "[encoded data removed]",
      "text/plain": [
       "<matplotlib.figure.Figure at 0x114b8b050>"
      ]
     },
     "metadata": {},
     "output_type": "display_data"
    }
   ],
   "source": [
    "np.set_printoptions(threshold=np.nan)\n",
    "    \n",
    "def quantized(img,k):\n",
    "    img = np.asarray(img)\n",
    "    X = img.shape[0]\n",
    "    Y = img.shape[1]\n",
    "    Z = img.shape[2]\n",
    "    print X, Y, Z\n",
    "    #     creating kmeans object\n",
    "    kmeans = sklearn.cluster.KMeans(k , max_iter = 5000, n_init = 40)\n",
    "    #     smushing the 2d array of vectors to 1d array of vectors\n",
    "    flat = np.reshape(img, (-1,3))\n",
    "    #     fiting the model\n",
    "    kmeans.fit(flat)\n",
    "    #     predicting with our model\n",
    "    predictions = kmeans.predict(flat)\n",
    "    #     generate color values from our prediction from k centoid values\n",
    "    colors = kmeans.cluster_centers_\n",
    "    #     creating new quantized image\n",
    "    newimg = np.zeros((X,Y,Z))\n",
    "    predictions2d = np.reshape(predictions, (X, Y))\n",
    "    for x in range(X):\n",
    "        for y in range(Y):\n",
    "            newimg[x][y] = colors[predictions2d[x][y]]\n",
    "    return newimg\n",
    "\n",
    "img = quantized(im,9)\n",
    "%matplotlib inline\n",
    "plt.figure()\n",
    "plt.imshow(np.asarray(img))\n"
   ]
  },
  {
   "cell_type": "code",
   "execution_count": null,
   "metadata": {
    "collapsed": true
   },
   "outputs": [],
   "source": []
  },
  {
   "cell_type": "code",
   "execution_count": null,
   "metadata": {
    "collapsed": true
   },
   "outputs": [],
   "source": []
  },
  {
   "cell_type": "code",
   "execution_count": null,
   "metadata": {
    "collapsed": true
   },
   "outputs": [],
   "source": []
  }
 ],
 "metadata": {
  "kernelspec": {
   "display_name": "Python 2",
   "language": "python",
   "name": "python2"
  },
  "language_info": {
   "codemirror_mode": {
    "name": "ipython",
    "version": 2
   },
   "file_extension": ".py",
   "mimetype": "text/x-python",
   "name": "python",
   "nbconvert_exporter": "python",
   "pygments_lexer": "ipython2",
   "version": "2.7.10"
  }
 },
 "nbformat": 4,
 "nbformat_minor": 0
}
