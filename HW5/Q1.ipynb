{
 "cells": [
  {
   "cell_type": "code",
   "execution_count": 27,
   "metadata": {
    "collapsed": false
   },
   "outputs": [],
   "source": [
    "import numpy as np\n",
    "import matplotlib.pyplot as plt \n",
    "from PIL import Image\n",
    "from skimage import data, io, filters\n",
    "from skimage.feature import match_template\n",
    "\n",
    "%matplotlib inline "
   ]
  },
  {
   "cell_type": "code",
   "execution_count": 28,
   "metadata": {
    "collapsed": false
   },
   "outputs": [
    {
     "name": "stdout",
     "output_type": "stream",
     "text": [
      "(18, 10, 3) (18, 10, 3)\n"
     ]
    },
    {
     "data": {
      "text/plain": [
       "<matplotlib.image.AxesImage at 0x11cf4c910>"
      ]
     },
     "execution_count": 28,
     "metadata": {},
     "output_type": "execute_result"
    },
    {
     "data": {
      "image/png": "[encoded data removed]",
      "text/plain": [
       "<matplotlib.figure.Figure at 0x111dab190>"
      ]
     },
     "metadata": {},
     "output_type": "display_data"
    },
    {
     "data": {
      "image/png": "[encoded data removed]",
      "text/plain": [
       "<matplotlib.figure.Figure at 0x11b514890>"
      ]
     },
     "metadata": {},
     "output_type": "display_data"
    }
   ],
   "source": [
    "c = np.asarray(Image.open(\"Images/Q1/c.jpg\"),dtype=np.float64)/255.0\n",
    "k = np.asarray(Image.open(\"Images/Q1/k.jpg\"),dtype=np.float64)/255.0\n",
    "# three = np.asarray(Image.open(\"Images/Q2/Working set/I3.jpg\"),dtype=np.float64)/255.0\n",
    "\n",
    "print c.shape , k.shape #, three.shape\n",
    "\n",
    "\n",
    "f=plt.figure()\n",
    "# f.set_size_inches(18.5, 10.5)\n",
    "\n",
    "plt.imshow(c)\n",
    "plt.figure()\n",
    "plt.imshow(k)\n",
    "# plt.figure()\n",
    "# plt.imshow(three)\n",
    "# plt.figure()"
   ]
  },
  {
   "cell_type": "code",
   "execution_count": 29,
   "metadata": {
    "collapsed": false
   },
   "outputs": [],
   "source": [
    "# Font images:\n",
    "ariel = np.asarray(Image.open(\"Images/Q1/Fonts/Ariel.jpg\"),dtype=np.float64)/255.0\n",
    "calibari = np.asarray(Image.open(\"Images/Q1/Fonts/Calibari.jpg\"),dtype=np.float64)/255.0\n",
    "plantinoLino = np.asarray(Image.open(\"Images/Q1/Fonts/PlatinoLinotype.jpg\"),dtype=np.float64)/255.0\n",
    "timesNewRoman = np.asarray(Image.open(\"Images/Q1/Fonts/TimesNewRoman.jpg\"),dtype=np.float64)/255.0\n",
    "verdana = np.asarray(Image.open(\"Images/Q1/Fonts/Verdana.jpg\"),dtype=np.float64)/255.0"
   ]
  },
  {
   "cell_type": "code",
   "execution_count": 51,
   "metadata": {
    "collapsed": false
   },
   "outputs": [
    {
     "name": "stdout",
     "output_type": "stream",
     "text": [
      "[[[-0.09538822]\n",
      "  [ 0.00480504]\n",
      "  [ 0.17361024]\n",
      "  [ 0.39131084]\n",
      "  [ 0.53120756]\n",
      "  [ 0.67010009]]\n",
      "\n",
      " [[ 0.16396578]\n",
      "  [ 0.37201419]\n",
      "  [ 0.48326051]\n",
      "  [ 0.38094276]\n",
      "  [ 0.15510651]\n",
      "  [ 0.25651246]]\n",
      "\n",
      " [[ 0.3895492 ]\n",
      "  [ 0.29706636]\n",
      "  [ 0.13125682]\n",
      "  [-0.08735796]\n",
      "  [-0.0907028 ]\n",
      "  [ 0.07283822]]\n",
      "\n",
      " [[ 0.23782122]\n",
      "  [ 0.22165491]\n",
      "  [ 0.01686892]\n",
      "  [-0.16373689]\n",
      "  [-0.16495171]\n",
      "  [-0.05424648]]\n",
      "\n",
      " [[ 0.18978256]\n",
      "  [ 0.15329976]\n",
      "  [-0.05248157]\n",
      "  [-0.16915189]\n",
      "  [-0.19090927]\n",
      "  [-0.18041663]]\n",
      "\n",
      " [[ 0.15514092]\n",
      "  [ 0.13951501]\n",
      "  [-0.02721717]\n",
      "  [-0.16834615]\n",
      "  [-0.19056253]\n",
      "  [-0.17995013]]\n",
      "\n",
      " [[ 0.12260476]\n",
      "  [ 0.14292417]\n",
      "  [ 0.01188379]\n",
      "  [-0.17995481]\n",
      "  [-0.18883543]\n",
      "  [-0.17856827]]\n",
      "\n",
      " [[ 0.03749436]\n",
      "  [ 0.18072049]\n",
      "  [ 0.22092719]\n",
      "  [ 0.09808408]\n",
      "  [-0.04152462]\n",
      "  [-0.01907783]]\n",
      "\n",
      " [[ 0.07906819]\n",
      "  [ 0.09437581]\n",
      "  [ 0.24735808]\n",
      "  [ 0.22271764]\n",
      "  [ 0.0171758 ]\n",
      "  [ 0.14049947]]\n",
      "\n",
      " [[-0.08685698]\n",
      "  [-0.05690456]\n",
      "  [ 0.1924352 ]\n",
      "  [ 0.58000946]\n",
      "  [ 0.71561348]\n",
      "  [ 1.00000024]]]\n"
     ]
    }
   ],
   "source": [
    "def template_extractor(image):\n",
    "    '''Takes an np image array'''\n",
    "    x,y, z = image.shape\n",
    "    template = image[x/2:x, y/2:y]\n",
    "    return template\n",
    "\n",
    "temp_c = template_extractor(c)\n",
    "temp_k = template_extractor(k)\n",
    "\n",
    "result = match_template(c, temp_c)\n",
    "ij = np.unravel_index(np.argmax(result), result.shape)\n",
    "# x, y = ij[::-1]\n",
    "\n",
    "# plt.imshow(c)\n",
    "# rect = plt.Rectangle((x, y), wcoin, hcoin, edgecolor='r', facecolor='none')\n",
    "\n",
    "print result\n",
    "# print ij"
   ]
  },
  {
   "cell_type": "code",
   "execution_count": 43,
   "metadata": {
    "collapsed": false
   },
   "outputs": [
    {
     "ename": "ValueError",
     "evalue": "operands could not be broadcast together with shapes (9,5,3) (18,10,3) ",
     "output_type": "error",
     "traceback": [
      "\u001b[0;31m---------------------------------------------------------------------------\u001b[0m",
      "\u001b[0;31mValueError\u001b[0m                                Traceback (most recent call last)",
      "\u001b[0;32m<ipython-input-43-4d05eb175378>\u001b[0m in \u001b[0;36m<module>\u001b[0;34m()\u001b[0m\n\u001b[1;32m      1\u001b[0m \u001b[0;34m\u001b[0m\u001b[0m\n\u001b[1;32m      2\u001b[0m \u001b[0;34m\u001b[0m\u001b[0m\n\u001b[0;32m----> 3\u001b[0;31m \u001b[0mmatch1\u001b[0m \u001b[0;34m=\u001b[0m \u001b[0mnp\u001b[0m\u001b[0;34m.\u001b[0m\u001b[0msum\u001b[0m\u001b[0;34m(\u001b[0m\u001b[0;34m(\u001b[0m\u001b[0mtemp_c\u001b[0m\u001b[0;34m[\u001b[0m\u001b[0;34m:\u001b[0m\u001b[0;34m,\u001b[0m\u001b[0;34m:\u001b[0m\u001b[0;34m,\u001b[0m\u001b[0;36m0\u001b[0m\u001b[0;34m:\u001b[0m\u001b[0;36m3\u001b[0m\u001b[0;34m]\u001b[0m\u001b[0;34m-\u001b[0m\u001b[0mc\u001b[0m\u001b[0;34m[\u001b[0m\u001b[0;34m:\u001b[0m\u001b[0;34m,\u001b[0m\u001b[0;34m:\u001b[0m\u001b[0;34m,\u001b[0m\u001b[0;36m0\u001b[0m\u001b[0;34m:\u001b[0m\u001b[0;36m3\u001b[0m\u001b[0;34m]\u001b[0m\u001b[0;34m)\u001b[0m\u001b[0;34m**\u001b[0m\u001b[0;36m2\u001b[0m\u001b[0;34m)\u001b[0m\u001b[0;34m\u001b[0m\u001b[0m\n\u001b[0m",
      "\u001b[0;31mValueError\u001b[0m: operands could not be broadcast together with shapes (9,5,3) (18,10,3) "
     ]
    }
   ],
   "source": [
    "def SSD(temp1, temp2):  \n",
    "    match1 = np.sum((temp_c[:,:,0:3]-c[:,:,0:3])**2)\n",
    "    \n"
   ]
  },
  {
   "cell_type": "code",
   "execution_count": null,
   "metadata": {
    "collapsed": true
   },
   "outputs": [],
   "source": [
    "image = data.coins()\n",
    "coin = image[170:220, 75:130]\n",
    "\n",
    "result = match_template(image, coin)\n",
    "ij = np.unravel_index(np.argmax(result), result.shape)\n",
    "x, y = ij[::-1]\n",
    "\n",
    "fig = plt.figure(figsize=(8, 3))\n",
    "ax1 = plt.subplot(1, 3, 1)\n",
    "ax2 = plt.subplot(1, 3, 2, adjustable='box-forced')\n",
    "ax3 = plt.subplot(1, 3, 3, sharex=ax2, sharey=ax2, adjustable='box-forced')\n",
    "\n",
    "ax1.imshow(coin)\n",
    "ax1.set_axis_off()\n",
    "ax1.set_title('template')\n",
    "\n",
    "ax2.imshow(image)\n",
    "ax2.set_axis_off()\n",
    "ax2.set_title('image')\n",
    "# highlight matched region\n",
    "hcoin, wcoin = coin.shape\n",
    "rect = plt.Rectangle((x, y), wcoin, hcoin, edgecolor='r', facecolor='none')\n",
    "ax2.add_patch(rect)\n",
    "\n",
    "ax3.imshow(result)\n",
    "ax3.set_axis_off()\n",
    "ax3.set_title('`match_template`\\nresult')\n",
    "# highlight matched region\n",
    "ax3.autoscale(False)\n",
    "ax3.plot(x, y, 'o', markeredgecolor='r', markerfacecolor='none', markersize=10)\n",
    "\n",
    "plt.show()"
   ]
  },
  {
   "cell_type": "code",
   "execution_count": null,
   "metadata": {
    "collapsed": true
   },
   "outputs": [],
   "source": []
  }
 ],
 "metadata": {
  "kernelspec": {
   "display_name": "Python 2",
   "language": "python",
   "name": "python2"
  },
  "language_info": {
   "codemirror_mode": {
    "name": "ipython",
    "version": 2
   },
   "file_extension": ".py",
   "mimetype": "text/x-python",
   "name": "python",
   "nbconvert_exporter": "python",
   "pygments_lexer": "ipython2",
   "version": "2.7.10"
  }
 },
 "nbformat": 4,
 "nbformat_minor": 0
}
