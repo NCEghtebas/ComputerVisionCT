{
 "cells": [
  {
   "cell_type": "code",
   "execution_count": 6,
   "metadata": {
    "collapsed": true
   },
   "outputs": [],
   "source": [
    "import matplotlib.pyplot as plt \n",
    "\n",
    "import scipy.ndimage.filters\n",
    "\n",
    "import skimage.color\n",
    "\n",
    "from PIL import Image\n",
    "from PIL import ImageFilter\n",
    "\n",
    "import numpy as np\n",
    "\n",
    "from skimage import io, color, feature,filters,morphology, draw\n",
    "\n",
    "import math\n"
   ]
  },
  {
   "cell_type": "code",
   "execution_count": 25,
   "metadata": {
    "collapsed": false
   },
   "outputs": [
    {
     "name": "stdout",
     "output_type": "stream",
     "text": [
      "[[ 1.  1.  1.  1.  1.  1.  1.  1.  1.  1.]\n",
      " [ 0.  0.  0.  0.  0.  0.  0.  0.  0.  0.]]\n"
     ]
    }
   ],
   "source": [
    "def detectCircles(im, radius, usegradient):\n",
    "    edge = np.where(im == True)\n",
    "    H = np.zeros(im.shape)\n",
    "    for e in range(len(edge[0])):\n",
    "        y, x = skimage.draw.circle_perimeter( edge[1][e], edge[0][e], radius)\n",
    "        np.where( np.array([x,y]) )\n",
    "        H[x, y] +=1\n",
    "    return H\n",
    "           \n",
    "# Preprocessing\n",
    "image = np.asarray(Image.open(\"Images/Q2/ladybug.jpg\"),dtype=np.float64)/255.0\n",
    "# convert to greyscale\n",
    "image=skimage.color.rgb2grey(image)\n",
    "\n",
    "# Edge detect\n",
    "canny_map=feature.canny(image, low_threshold = 0.025, high_threshold= .15)\n",
    "# r, t, H = hough_transform(canny_map)\n",
    "\n",
    "# guassain blur to reduce noise\n",
    "\n",
    "# get circles\n",
    "circles = detectCircles(canny_map,1 , 3)\n",
    "\n",
    "# draw circles on origional image \n",
    "\n",
    "%matplotlib inline\n",
    "plt.figure()\n",
    "plt.imshow(circles)\n",
    "\n",
    "print(np.max(circles))\n"
   ]
  },
  {
   "cell_type": "code",
   "execution_count": 54,
   "metadata": {
    "collapsed": false
   },
   "outputs": [
    {
     "data": {
      "text/plain": [
       "array([False, False, False, ..., False, False, False], dtype=bool)"
      ]
     },
     "execution_count": 54,
     "metadata": {},
     "output_type": "execute_result"
    }
   ],
   "source": [
    "canny_map[1][1]\n"
   ]
  },
  {
   "cell_type": "code",
   "execution_count": null,
   "metadata": {
    "collapsed": true
   },
   "outputs": [],
   "source": []
  }
 ],
 "metadata": {
  "kernelspec": {
   "display_name": "Python 2",
   "language": "python",
   "name": "python2"
  },
  "language_info": {
   "codemirror_mode": {
    "name": "ipython",
    "version": 2
   },
   "file_extension": ".py",
   "mimetype": "text/x-python",
   "name": "python",
   "nbconvert_exporter": "python",
   "pygments_lexer": "ipython2",
   "version": "2.7.10"
  }
 },
 "nbformat": 4,
 "nbformat_minor": 0
}
